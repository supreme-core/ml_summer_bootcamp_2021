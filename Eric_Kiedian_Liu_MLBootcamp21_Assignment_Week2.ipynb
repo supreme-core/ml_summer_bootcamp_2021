{
  "nbformat": 4,
  "nbformat_minor": 0,
  "metadata": {
    "colab": {
      "name": "Eric.Kiedian.Liu.MLBootcamp21_Assignment_Week2.ipynb",
      "provenance": [],
      "collapsed_sections": []
    },
    "kernelspec": {
      "name": "python3",
      "display_name": "Python 3"
    },
    "language_info": {
      "name": "python"
    },
    "accelerator": "GPU"
  },
  "cells": [
    {
      "cell_type": "markdown",
      "metadata": {
        "id": "8l_X4y9_xF1k"
      },
      "source": [
        "ML Bootcamp 2021 - Week 2: Assignment\n",
        "\n",
        "- In this week you will learn more about the Pandas library and implement Logistic Regression\n",
        "- The comments will have most of the instructiions\n",
        "- Attempt the questions using only python/pandas as much as possible as it is a very in-demand skill right now and learning it will be beneficial"
      ]
    },
    {
      "cell_type": "code",
      "metadata": {
        "id": "0DPAiRhTlID6"
      },
      "source": [
        "#Import the necessary libraries here\n",
        "from collections import defaultdict, OrderedDict\n",
        "import numpy as np\n",
        "import pandas as pd\n",
        "import pprint\n",
        "import sklearn\n",
        "from sklearn.impute import SimpleImputer\n",
        "from sklearn.linear_model import LogisticRegression\n",
        "from sklearn.metrics import accuracy_score, classification_report\n",
        "from sklearn.model_selection import train_test_split\n",
        "from sklearn.preprocessing import MinMaxScaler"
      ],
      "execution_count": null,
      "outputs": []
    },
    {
      "cell_type": "code",
      "metadata": {
        "id": "heOUtEPSNQes"
      },
      "source": [
        "from google.colab import files\n",
        "train_csv = files.upload()"
      ],
      "execution_count": null,
      "outputs": []
    },
    {
      "cell_type": "code",
      "metadata": {
        "id": "6nJt1CfCN7iN"
      },
      "source": [
        "df = pd.read_csv('train.csv')"
      ],
      "execution_count": null,
      "outputs": []
    },
    {
      "cell_type": "code",
      "metadata": {
        "id": "rEIoi0fcOIpf"
      },
      "source": [
        "print(df.columns)"
      ],
      "execution_count": null,
      "outputs": []
    },
    {
      "cell_type": "markdown",
      "metadata": {
        "id": "2KyORngMzaL1"
      },
      "source": [
        "## Q1. What is the most frequently occuring age for male and female? If more than one particular age occurs equal number of times, report the higher of the two"
      ]
    },
    {
      "cell_type": "code",
      "metadata": {
        "id": "382NbussNzUb"
      },
      "source": [
        "# pprint.pprint(df.groupby(['Sex']).groups)\n",
        "\n",
        "'''\n",
        "Resources:\n",
        "https://www.shanelynn.ie/summarising-aggregation-and-grouping-data-in-python-pandas/\n",
        "https://www.geeksforgeeks.org/python-pandas-dataframe-groupby/\n",
        "'''\n",
        "\n",
        "# Group all rows by Sex and Age. Then record down the total occurrences by age for each sex.\n",
        "most_frequent_age = {'male': {} , 'female': {}}\n",
        "for k, v in df.groupby(['Sex', 'Age']).groups.items():\n",
        "  sex = k[0]\n",
        "  age = k[1]\n",
        "  if str(age) not in most_frequent_age[sex]:\n",
        "    most_frequent_age[sex][str(age)] = 0\n",
        "  most_frequent_age[sex][str(age)] += len(v.values)"
      ],
      "execution_count": null,
      "outputs": []
    },
    {
      "cell_type": "code",
      "metadata": {
        "id": "uez0srlPnxj8"
      },
      "source": [
        "# Write your code below the comments in this cell\n",
        "# Important\n",
        "# Save your female age value in a variable called 'age_female'\n",
        "# Save your male age value in a variable called 'age_male'\n",
        "\n",
        "\n",
        "# print(\"Max occurring age for male is \", max(most_frequent_age['male'], key=most_frequent_age['male'].get))\n",
        "# male_sorteddesc_age = OrderedDict(sorted(most_frequent_age['male'].items(), key=lambda item: item[1], reverse=True))\n",
        "# print(male_sorteddesc_age)\n",
        "# print(\"Max occurring age for female is \", max(most_frequent_age['female'], key=most_frequent_age['female'].get))\n",
        "# female_sorteddesc_age = OrderedDict(sorted(most_frequent_age['female'].items(), key=lambda item: item[1], reverse=True))\n",
        "# print(female_sorteddesc_age)\n",
        "\n",
        "####Code Comes Here###\n",
        "# Use OrderedDict to sort the groups descending by their counter. Group with most occurrences will be stored at index 0.\n",
        "male_sorteddesc_age = OrderedDict(sorted(most_frequent_age['male'].items(), key=lambda item: item[1], reverse=True))\n",
        "female_sorteddesc_age = OrderedDict(sorted(most_frequent_age['female'].items(), key=lambda item: item[1], reverse=True))\n",
        "\n",
        "###Answers come here###\n",
        "age_female = list(female_sorteddesc_age.items())\n",
        "age_female = age_female[0]\n",
        "age_male = list(male_sorteddesc_age.items())\n",
        "age_male = age_male[0]\n",
        "print(age_female, age_male)\n"
      ],
      "execution_count": null,
      "outputs": []
    },
    {
      "cell_type": "markdown",
      "metadata": {
        "id": "UMTcBlpL0aL3"
      },
      "source": [
        "## Q2. Convert the 'Sex' feature of the Train dataset into categorical feature. This question would require you to first read about categorical features and how they look before proceeding.\n",
        "\n",
        "- Read about categorical data first: https://www.kdnuggets.com/2021/05/deal-with-categorical-data-machine-learning.html\n",
        "- Create a new column called \"Sex_Category\"\n",
        "- Use the lambda and apply function to perform this task"
      ]
    },
    {
      "cell_type": "code",
      "metadata": {
        "id": "EzArtUHCz9i0"
      },
      "source": [
        "# Write your code below the comments in this cell\n",
        "# Important\n",
        "# Finally your dataframe should have an additional column called \"Sex_Category\"\n",
        "# This \"Sex_Category\" column should have the entry as 1 wherever the column \"Sex\" shows \"female\" and 0 wherever it shows \"male\"\n",
        "# Do not remove the existing \"Sex\" column, instead create a new column based on this existing column\n",
        "# I have already provided the code to create a new column for your dataframe called \"df\"\n",
        "# Refer to the previous notebooks for reference\n",
        "'''\n",
        "Reference:\n",
        "https://pandas.pydata.org/pandas-docs/stable/reference/api/pandas.DataFrame.astype.html\n",
        "https://benalexkeen.com/mapping-categorical-data-in-pandas/\n",
        "https://pandas.pydata.org/pandas-docs/version/0.25.2/user_guide/categorical.html\n",
        "https://stackoverflow.com/questions/39092067/pandas-dataframe-convert-column-type-to-string-or-categorical\n",
        "'''\n",
        "\n",
        "####Code Comes Here###\n",
        "from pandas.api.types import CategoricalDtype\n",
        "\n",
        "# male at index 0, and female at index 1. Fulfills what the question was asking.\n",
        "cat_dtype = CategoricalDtype(categories=['male', 'female'])\n",
        "df['Sex_Category']= df['Sex'].astype(cat_dtype)\n",
        "\n",
        "# Compare Sex Category column against Sex column\n",
        "print(df['Sex_Category'].cat.codes)\n",
        "print(df['Sex'])\n"
      ],
      "execution_count": null,
      "outputs": []
    },
    {
      "cell_type": "markdown",
      "metadata": {
        "id": "4L-V8lV_4EO5"
      },
      "source": [
        "## Q3. Consider the \"Age\" and the \"Fare\" columns. These are known as Numerical features. Sometimes it is a good idea to scale these features(bring all the numerical features to one scale maybe between {0,1} or between {-1,1} so that the weights are not biased across the features\n",
        "\n",
        "- Bring these two features to a common scale\n",
        "- There are many techniques to do this and scikit-learn provides many built-in libraries. Try to explore them and see how you can apply them. You would need to import the appropriate libraries\n",
        "- You can use anyone. Without using scikit-learn, the simplest scaler that you can implement manually is to make the mean 0 and standard deviation as 1\n",
        "- In order to do this manual implementation all you need to do is take each value of \"Age\" and \"Fare\", subtract the mean(mean of full column) from each value and then divide that result by the standard devaition(standard deviation of full column)\n",
        "- If you decide to use the manual process then take the mean of all values except the NULL/Missing values as otherwise you may get an error"
      ]
    },
    {
      "cell_type": "code",
      "metadata": {
        "id": "BveHlhD-68p4"
      },
      "source": [
        "print(df['Age'])\n",
        "print(df['Fare'])"
      ],
      "execution_count": null,
      "outputs": []
    },
    {
      "cell_type": "code",
      "metadata": {
        "id": "M0DTidbd1w8o"
      },
      "source": [
        "# Write your code below the comments in this cell\n",
        "# Important\n",
        "# Finally your dataframe should have two additional columns called \"Age_Normalized\" and \"Fare_Normalized\"\n",
        "# Do not remove the existing \"Age\" or \"Fare\" column, instead create new columns based on these existing columns\n",
        "# Refer to the previous notebooks for reference and also Q2 to understand how to add new columns to an existing dataframe\n",
        "# Use the apply and lambda function to perform the calculations\n",
        "# If you choose to use the scikit-learn libraries then make sure to import them first at the very top cell\n",
        "\n",
        "'''\n",
        "Resources:\n",
        "https://www.analyticssteps.com/blogs/introduction-logistic-regression-sigmoid-function-code-explanation\n",
        "'''\n",
        "\n",
        "####Code Comes Here###\n",
        "scaler = MinMaxScaler()\n",
        "df[['Age_Normalized', 'Fare_Normalized']] = scaler.fit_transform(df[['Age', 'Fare']])\n",
        "print(df.columns)\n",
        "\n",
        "###Code Comes Here###"
      ],
      "execution_count": null,
      "outputs": []
    },
    {
      "cell_type": "markdown",
      "metadata": {
        "id": "sNUtClA27s6G"
      },
      "source": [
        "## Q4. Implement the ****Logistic**** function in Python based on the formula provided in the slides. All you need is provided in the numpy module or math module. There is a mistake, the place where I mention \"Logit\" function in the slides it is actually called \"Logistic\" function and not Logit function"
      ]
    },
    {
      "cell_type": "code",
      "metadata": {
        "id": "UgXjuJDd597r"
      },
      "source": [
        "# Write your code below the comments in this cell\n",
        "# Important\n",
        "# Define a function and name it \"logistic_fn\"\n",
        "# Return the final result of the logistic function\n",
        "# The equation of the logistic function is present in the slides\n",
        "####Code Comes Here###\n",
        "def logistic_fn(z):\n",
        "  return 1.0 / (1 + np.exp(-z))\n",
        "\n",
        "###Code Comes Here###\n",
        "print(logistic_fn(1))\n",
        "#Verification\n",
        "# logistic_fn(1) --> 0.7310585786300049"
      ],
      "execution_count": null,
      "outputs": []
    },
    {
      "cell_type": "markdown",
      "metadata": {
        "id": "DGxKCzty93lN"
      },
      "source": [
        "## Q5. Using the above newly generated features, \"Age_Normalized\", \"Fare_Normalized\", \"Sex_Category\" and ****any other feature of your choice****. Implement the Logistic Regression Function just as was described in the last class notebook\n",
        "\n",
        "- Import the Logistic Regression Function from scikit-learn\n",
        "- Select the appropriate features first from your dataframe\n",
        "- Create appropriate variables called x_train, x_test, y_train, y_test using the splitting function showed before\n",
        "- Use all the features that you created now and REMEMBER, an ML model only accepts Numerical features. Now you will understand the importance of converting categorical data to numbers\n",
        "- Then train/fit() your training data to the Logistic Regression Model and then test/predict() it on your test dataset\n",
        "- ****The problem here is \"Titanic Survival Prediction\". From this name think about what is the output/label for this classification task. That single column will be your y_train/y_test. It was also accounced in class as well****\n",
        "\n",
        "- Keep the \"random_state\" paramenter inside the Logistic Regression function as any number of your choice and and report that number when submitting the assignment so that I can recreate your results. That number can be any integer\n",
        "\n",
        "- Print out the classification_report as shown during the class"
      ]
    },
    {
      "cell_type": "code",
      "metadata": {
        "id": "szR7tLOhGPrO"
      },
      "source": [
        "print(df.columns)"
      ],
      "execution_count": null,
      "outputs": []
    },
    {
      "cell_type": "code",
      "metadata": {
        "id": "M7ZfBIfpGaEz"
      },
      "source": [
        "df.head(3)"
      ],
      "execution_count": null,
      "outputs": []
    },
    {
      "cell_type": "code",
      "metadata": {
        "id": "6JCLEv1YHt0w"
      },
      "source": [
        "# Convert to integer in order for model to work\n",
        "df['Embarked_Normalized'] = df['Embarked'].astype('category')\n",
        "df['Embarked_Normalized_Int'] = df['Embarked_Normalized'].cat.codes\n",
        "df['Sex_Category_Int'] = df['Sex_Category'].cat.codes"
      ],
      "execution_count": null,
      "outputs": []
    },
    {
      "cell_type": "code",
      "metadata": {
        "id": "o78uLZYjGXtY"
      },
      "source": [
        "# drop columns that won't be any help in training our model or was normalized and stored as a separate colum\n",
        "df_x = df.drop(['PassengerId', 'Survived', 'Name', 'Sex', 'Ticket', 'Cabin', 'Embarked', 'Sex_Category', 'Embarked_Normalized'], axis=1)\n",
        "x_features = df_x\n",
        "y_labels = df.Survived"
      ],
      "execution_count": null,
      "outputs": []
    },
    {
      "cell_type": "code",
      "metadata": {
        "id": "EbAd3a7iJW6a"
      },
      "source": [
        "print(x_features.head(2))\n",
        "print(x_features.columns)"
      ],
      "execution_count": null,
      "outputs": []
    },
    {
      "cell_type": "code",
      "metadata": {
        "id": "O2vvGm_dJ4FS"
      },
      "source": [
        "# imputate missing data first\n",
        "imp=SimpleImputer(missing_values=np.NaN, strategy=\"most_frequent\")\n",
        "idf=pd.DataFrame(imp.fit_transform(x_features))\n",
        "idf.columns=x_features.columns\n",
        "idf.index=x_features.index\n",
        "\n",
        "# split into training and test data sets\n",
        "x_train, x_test, y_train, y_test = train_test_split(idf, y_labels)\n"
      ],
      "execution_count": null,
      "outputs": []
    },
    {
      "cell_type": "code",
      "metadata": {
        "id": "hv8kc3CKKqEd"
      },
      "source": [
        "print(x_features.columns)\n",
        "x_features.to_csv('temp.csv')\n"
      ],
      "execution_count": null,
      "outputs": []
    },
    {
      "cell_type": "code",
      "metadata": {
        "id": "rSD-0cOD8eIM"
      },
      "source": [
        "\n",
        "\n",
        "'''\n",
        "Resources:\n",
        "https://realpython.com/logistic-regression-python/\n",
        "https://towardsdatascience.com/building-a-logistic-regression-in-python-step-by-step-becd4d56c9c8\n",
        "https://heartbeat.fritz.ai/logistic-regression-in-python-using-scikit-learn-d34e882eebb1\n",
        "'''\n",
        "\n",
        "logistic_regression = LogisticRegression(random_state=3)\n",
        "logistic_regression.fit(x_train, y_train)\n",
        "y_pred = logistic_regression.predict(x_test)\n",
        "accuracy = accuracy_score(y_test, y_pred)\n",
        "accuracy_percentage = 100 * accuracy\n",
        "print('Accuracy: {}'.format(accuracy_percentage))\n",
        "print(classification_report(y_test, y_pred))\n"
      ],
      "execution_count": null,
      "outputs": []
    }
  ]
}